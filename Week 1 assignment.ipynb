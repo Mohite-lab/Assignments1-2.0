{
 "cells": [
  {
   "cell_type": "code",
   "execution_count": 1,
   "id": "76683137-5090-44dc-bf79-c4921114321d",
   "metadata": {},
   "outputs": [],
   "source": [
    "m = \"amol\""
   ]
  },
  {
   "cell_type": "code",
   "execution_count": 2,
   "id": "529ae1a4-6890-4052-907a-8246da3fc64a",
   "metadata": {},
   "outputs": [
    {
     "data": {
      "text/plain": [
       "'amol'"
      ]
     },
     "execution_count": 2,
     "metadata": {},
     "output_type": "execute_result"
    }
   ],
   "source": [
    "m"
   ]
  },
  {
   "cell_type": "code",
   "execution_count": 3,
   "id": "0a221ba5-f04b-46ed-9e93-4af6caf70840",
   "metadata": {},
   "outputs": [
    {
     "data": {
      "text/plain": [
       "str"
      ]
     },
     "execution_count": 3,
     "metadata": {},
     "output_type": "execute_result"
    }
   ],
   "source": [
    "type(m)"
   ]
  },
  {
   "cell_type": "code",
   "execution_count": 7,
   "id": "6d90d223-680b-4da7-857c-ce1aeba38fd7",
   "metadata": {},
   "outputs": [],
   "source": [
    "l = [1,2,3,4,5,6, \"amol\", 6.6, True, 6+6j]"
   ]
  },
  {
   "cell_type": "code",
   "execution_count": 8,
   "id": "6b047c44-7a04-4557-b13e-8d4602020ef5",
   "metadata": {},
   "outputs": [
    {
     "data": {
      "text/plain": [
       "list"
      ]
     },
     "execution_count": 8,
     "metadata": {},
     "output_type": "execute_result"
    }
   ],
   "source": [
    "type(l)"
   ]
  },
  {
   "cell_type": "code",
   "execution_count": 9,
   "id": "8182aa9b-82c4-4cbb-a178-b6f3ca80a357",
   "metadata": {},
   "outputs": [],
   "source": [
    "m = (1,2,3,4,5,6, \"amol\", 6.6, True, 6+6j)"
   ]
  },
  {
   "cell_type": "code",
   "execution_count": 10,
   "id": "0759af8a-896d-429a-9cb9-38ed4658661a",
   "metadata": {},
   "outputs": [
    {
     "data": {
      "text/plain": [
       "tuple"
      ]
     },
     "execution_count": 10,
     "metadata": {},
     "output_type": "execute_result"
    }
   ],
   "source": [
    "type(m)"
   ]
  },
  {
   "cell_type": "code",
   "execution_count": 11,
   "id": "3d96e677-ece5-4540-8c92-226b9e1bd2dd",
   "metadata": {},
   "outputs": [],
   "source": [
    "m = 6.6"
   ]
  },
  {
   "cell_type": "code",
   "execution_count": 12,
   "id": "5a4f726e-7828-4ebf-93ec-5a242a463ba7",
   "metadata": {},
   "outputs": [
    {
     "data": {
      "text/plain": [
       "6.6"
      ]
     },
     "execution_count": 12,
     "metadata": {},
     "output_type": "execute_result"
    }
   ],
   "source": [
    "m"
   ]
  },
  {
   "cell_type": "code",
   "execution_count": 13,
   "id": "ae5fc452-d1aa-4d1c-9805-e0d0bbc66c10",
   "metadata": {},
   "outputs": [
    {
     "data": {
      "text/plain": [
       "float"
      ]
     },
     "execution_count": 13,
     "metadata": {},
     "output_type": "execute_result"
    }
   ],
   "source": [
    "type(m)"
   ]
  },
  {
   "cell_type": "code",
   "execution_count": 14,
   "id": "d4c7b30d-ad51-4632-81a7-ac8468ccf204",
   "metadata": {},
   "outputs": [
    {
     "data": {
      "text/plain": [
       "2.5"
      ]
     },
     "execution_count": 14,
     "metadata": {},
     "output_type": "execute_result"
    }
   ],
   "source": [
    "5/2"
   ]
  },
  {
   "cell_type": "code",
   "execution_count": 19,
   "id": "4f969caa-a061-495d-9608-c9f54237907a",
   "metadata": {},
   "outputs": [
    {
     "data": {
      "text/plain": [
       "1"
      ]
     },
     "execution_count": 19,
     "metadata": {},
     "output_type": "execute_result"
    }
   ],
   "source": [
    "7%2"
   ]
  },
  {
   "cell_type": "code",
   "execution_count": 20,
   "id": "32c6d6bd-279e-4b02-a5a8-8156e0a857ee",
   "metadata": {},
   "outputs": [
    {
     "data": {
      "text/plain": [
       "3"
      ]
     },
     "execution_count": 20,
     "metadata": {},
     "output_type": "execute_result"
    }
   ],
   "source": [
    "3//1"
   ]
  },
  {
   "cell_type": "code",
   "execution_count": 21,
   "id": "2910e944-f6a6-4fd1-8f19-37614497056a",
   "metadata": {},
   "outputs": [
    {
     "data": {
      "text/plain": [
       "8"
      ]
     },
     "execution_count": 21,
     "metadata": {},
     "output_type": "execute_result"
    }
   ],
   "source": [
    "2**3"
   ]
  },
  {
   "cell_type": "code",
   "execution_count": 26,
   "id": "69022bf2-6299-47f5-9108-f8aef4031b4d",
   "metadata": {},
   "outputs": [],
   "source": [
    "M = [1,2,3,4,5,6, \"amol\", 6.6, True, 6+7j]"
   ]
  },
  {
   "cell_type": "code",
   "execution_count": 27,
   "id": "dd52f44d-811c-46a5-8a1f-55f66baa8b5c",
   "metadata": {},
   "outputs": [
    {
     "name": "stdout",
     "output_type": "stream",
     "text": [
      "a\n",
      "m\n",
      "o\n",
      "l\n"
     ]
    }
   ],
   "source": [
    "m = \"amol\"\n",
    "for i in m :\n",
    "    print(i)"
   ]
  },
  {
   "cell_type": "code",
   "execution_count": 35,
   "id": "26eb22a6-117c-4418-a870-a662220c2265",
   "metadata": {},
   "outputs": [],
   "source": [
    "l = [1,2,3,4,5,6, \"amol\", 6.6, True, 6+7j] "
   ]
  },
  {
   "cell_type": "code",
   "execution_count": 36,
   "id": "79460dc3-1cec-47b9-a042-177688c31da8",
   "metadata": {},
   "outputs": [
    {
     "name": "stdout",
     "output_type": "stream",
     "text": [
      "<class 'int'>\n",
      "<class 'int'>\n",
      "<class 'int'>\n",
      "<class 'int'>\n",
      "<class 'int'>\n",
      "<class 'int'>\n",
      "<class 'str'>\n",
      "<class 'float'>\n",
      "<class 'bool'>\n",
      "<class 'complex'>\n"
     ]
    }
   ],
   "source": [
    "for i in l :\n",
    "    print(type(i))"
   ]
  },
  {
   "cell_type": "code",
   "execution_count": 37,
   "id": "faf37b46-8f45-4b19-bd02-9fd10a179897",
   "metadata": {},
   "outputs": [
    {
     "name": "stdout",
     "output_type": "stream",
     "text": [
      "1\n",
      "2\n",
      "3\n",
      "4\n"
     ]
    }
   ],
   "source": [
    "a = 5\n",
    "b = 1\n",
    "while b < a :\n",
    "    print(b)\n",
    "    b = b+1"
   ]
  },
  {
   "cell_type": "code",
   "execution_count": 38,
   "id": "4ed7d866-ff7f-427d-a3fc-3392b0a17c40",
   "metadata": {},
   "outputs": [],
   "source": [
    "m = [1,2,3,4,5,6, \"amol\", 6.6, True, 6+7j] "
   ]
  },
  {
   "cell_type": "code",
   "execution_count": 39,
   "id": "16ac7e7e-3c42-47b0-b347-b137dda45e91",
   "metadata": {},
   "outputs": [],
   "source": [
    "m [2] = 8"
   ]
  },
  {
   "cell_type": "code",
   "execution_count": 40,
   "id": "f3f35505-6116-46ff-9e7b-2d9272d8d56e",
   "metadata": {},
   "outputs": [
    {
     "data": {
      "text/plain": [
       "[1, 2, 8, 4, 5, 6, 'amol', 6.6, True, (6+7j)]"
      ]
     },
     "execution_count": 40,
     "metadata": {},
     "output_type": "execute_result"
    }
   ],
   "source": [
    "m"
   ]
  },
  {
   "cell_type": "code",
   "execution_count": 41,
   "id": "629d5b48-95f3-4c15-86a3-31219412971b",
   "metadata": {},
   "outputs": [],
   "source": [
    "m = [1,2,3,4,5,6, \"amol\", 6.6, True, 6+7j] "
   ]
  },
  {
   "cell_type": "code",
   "execution_count": 42,
   "id": "efbc232a-d769-4480-9450-7aa625e0e16d",
   "metadata": {},
   "outputs": [],
   "source": [
    "m [6] = \"mohite\""
   ]
  },
  {
   "cell_type": "code",
   "execution_count": 43,
   "id": "87cab5f3-15d2-400e-8439-ff56e5ec6367",
   "metadata": {},
   "outputs": [
    {
     "data": {
      "text/plain": [
       "[1, 2, 3, 4, 5, 6, 'mohite', 6.6, True, (6+7j)]"
      ]
     },
     "execution_count": 43,
     "metadata": {},
     "output_type": "execute_result"
    }
   ],
   "source": [
    "m"
   ]
  },
  {
   "cell_type": "code",
   "execution_count": 44,
   "id": "a8164e3d-191f-474b-94f3-7bc92c013ada",
   "metadata": {},
   "outputs": [],
   "source": [
    "a = \"pwskiils\""
   ]
  },
  {
   "cell_type": "code",
   "execution_count": 45,
   "id": "f8089dd4-2ebb-417d-bef7-576cfca430f2",
   "metadata": {},
   "outputs": [
    {
     "ename": "TypeError",
     "evalue": "'str' object does not support item assignment",
     "output_type": "error",
     "traceback": [
      "\u001b[0;31m---------------------------------------------------------------------------\u001b[0m",
      "\u001b[0;31mTypeError\u001b[0m                                 Traceback (most recent call last)",
      "Cell \u001b[0;32mIn[45], line 1\u001b[0m\n\u001b[0;32m----> 1\u001b[0m \u001b[43ma\u001b[49m\u001b[43m \u001b[49m\u001b[43m[\u001b[49m\u001b[38;5;241;43m7\u001b[39;49m\u001b[43m]\u001b[49m \u001b[38;5;241m=\u001b[39m \u001b[38;5;124m\"\u001b[39m\u001b[38;5;124md\u001b[39m\u001b[38;5;124m\"\u001b[39m\n",
      "\u001b[0;31mTypeError\u001b[0m: 'str' object does not support item assignment"
     ]
    }
   ],
   "source": [
    "a [7] = \"d\""
   ]
  },
  {
   "cell_type": "code",
   "execution_count": 1,
   "id": "dd8c7a12-e25c-4344-ac2b-f3290c7ad73e",
   "metadata": {},
   "outputs": [],
   "source": [
    "a = [2, 8, 10, 21, 36, 48, 55, 62, 75, 83, 96, 101, 114, 123, 136, 147, 150, 166, 175, 182, 198, 203, 217, 224, 236]"
   ]
  },
  {
   "cell_type": "code",
   "execution_count": 2,
   "id": "6b946227-048e-4e3f-b9ad-aab13d045b3d",
   "metadata": {},
   "outputs": [
    {
     "name": "stdout",
     "output_type": "stream",
     "text": [
      "2 is not divisible by 3\n",
      "8 is not divisible by 3\n",
      "10 is not divisible by 3\n",
      "21 is divisible by 3\n",
      "36 is divisible by 3\n",
      "48 is divisible by 3\n",
      "55 is not divisible by 3\n",
      "62 is not divisible by 3\n",
      "75 is divisible by 3\n",
      "83 is not divisible by 3\n",
      "96 is divisible by 3\n",
      "101 is not divisible by 3\n",
      "114 is divisible by 3\n",
      "123 is divisible by 3\n",
      "136 is not divisible by 3\n",
      "147 is divisible by 3\n",
      "150 is divisible by 3\n",
      "166 is not divisible by 3\n",
      "175 is not divisible by 3\n",
      "182 is not divisible by 3\n",
      "198 is divisible by 3\n",
      "203 is not divisible by 3\n",
      "217 is not divisible by 3\n",
      "224 is not divisible by 3\n",
      "236 is not divisible by 3\n"
     ]
    }
   ],
   "source": [
    "for element in a:\n",
    "    if element % 3 == 0:\n",
    "        print(element, \"is divisible by 3\")\n",
    "    else:\n",
    "        print(element, \"is not divisible by 3\")"
   ]
  },
  {
   "cell_type": "code",
   "execution_count": 5,
   "id": "a36e2ad3-5d80-4e5c-b567-07033b9c33a2",
   "metadata": {},
   "outputs": [],
   "source": [
    "var = 'amol'"
   ]
  },
  {
   "cell_type": "code",
   "execution_count": 6,
   "id": "fb3203fb-6866-4250-bf9f-d212c60505c3",
   "metadata": {},
   "outputs": [
    {
     "data": {
      "text/plain": [
       "'amol'"
      ]
     },
     "execution_count": 6,
     "metadata": {},
     "output_type": "execute_result"
    }
   ],
   "source": [
    "var"
   ]
  },
  {
   "cell_type": "code",
   "execution_count": 7,
   "id": "53379461-8ace-41c7-8b71-fdd83f05ed86",
   "metadata": {},
   "outputs": [
    {
     "data": {
      "text/plain": [
       "str"
      ]
     },
     "execution_count": 7,
     "metadata": {},
     "output_type": "execute_result"
    }
   ],
   "source": [
    "type(var)"
   ]
  },
  {
   "cell_type": "markdown",
   "id": "c440ea2f-1d53-4a74-b7f2-05502d702ef6",
   "metadata": {},
   "source": [
    " following variables containing data"
   ]
  },
  {
   "cell_type": "markdown",
   "id": "c3907104-955c-4c86-b5ee-681e0f7c166b",
   "metadata": {},
   "source": [
    "(i) var1 = ‘ ‘"
   ]
  },
  {
   "cell_type": "markdown",
   "id": "af2b4c32-4f29-447d-a3a2-6c385ffc2d69",
   "metadata": {},
   "source": [
    "Answer - The data type of var1 is a string."
   ]
  },
  {
   "cell_type": "markdown",
   "id": "147a1126-034a-411b-917b-943dc5ccae1f",
   "metadata": {},
   "source": [
    "(ii) var2 = ‘[ DS, ML, Python]’ "
   ]
  },
  {
   "cell_type": "markdown",
   "id": "5fa3a893-535c-4174-a114-95d0f59bd5be",
   "metadata": {},
   "source": [
    "Answer - The data type of var2 is also a string."
   ]
  },
  {
   "cell_type": "markdown",
   "id": "f30fb1af-b76f-45a9-99cf-eaee80371aa0",
   "metadata": {},
   "source": [
    "(iii) var3 = [ ‘DS’, ’ML’ , ‘Python’ ]"
   ]
  },
  {
   "cell_type": "markdown",
   "id": "9317abd3-1109-4846-9f61-4f487a3262f6",
   "metadata": {},
   "source": [
    "Answer - The data type of var3 is a list."
   ]
  },
  {
   "cell_type": "markdown",
   "id": "13058d2d-d731-461a-a16e-791fd85848e5",
   "metadata": {},
   "source": [
    "(iv) var4 = 1. "
   ]
  },
  {
   "cell_type": "markdown",
   "id": "946bc67e-1083-42b8-82e5-2a245cc8da31",
   "metadata": {},
   "source": [
    "Answer - The data type of var4 is a float."
   ]
  }
 ],
 "metadata": {
  "kernelspec": {
   "display_name": "Python 3 (ipykernel)",
   "language": "python",
   "name": "python3"
  },
  "language_info": {
   "codemirror_mode": {
    "name": "ipython",
    "version": 3
   },
   "file_extension": ".py",
   "mimetype": "text/x-python",
   "name": "python",
   "nbconvert_exporter": "python",
   "pygments_lexer": "ipython3",
   "version": "3.10.8"
  }
 },
 "nbformat": 4,
 "nbformat_minor": 5
}
